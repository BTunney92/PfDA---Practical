{
 "cells": [
  {
   "cell_type": "markdown",
   "id": "a533e402-0fd5-4d52-b367-26eb9d211e21",
   "metadata": {},
   "source": [
    "## Programming for Data Analysis  - Practical\n",
    "### Author: Brendan Tunney\n",
    "### Student ID - G00270683"
   ]
  },
  {
   "cell_type": "markdown",
   "id": "9262429b-cc30-4732-8e49-c73edaa4ea1e",
   "metadata": {},
   "source": [
    " ![](NumpyLogo.png)\n"
   ]
  },
  {
   "cell_type": "markdown",
   "id": "8deb2f19-3d8b-4b4a-9646-1bff7a493871",
   "metadata": {},
   "source": [
    "### 1) Explain the overall purpose of the package\n",
    "NumPy is a data science package within Python. This Python library supports multi dimensional arrays and matrices [1].\n",
    "It is a successor to two Python libraries, Numeric & Numarray , created by Travis Oliphant in 2005 [2]. It is an open source software, free for all to use [3].\n",
    "\n",
    "NumPy can be imported to your notebook as below.       "
   ]
  },
  {
   "cell_type": "code",
   "execution_count": 2,
   "id": "5043ea8d-f7ce-4938-af4f-27df946396c1",
   "metadata": {},
   "outputs": [],
   "source": [
    "import numpy as np"
   ]
  },
  {
   "cell_type": "markdown",
   "id": "3777eed2-4929-4ce8-adf5-7b74fa1b879c",
   "metadata": {},
   "source": [
    "It is imported ''as np'' to avoid having to type ''numpy'' for each command. ie) <ins>np.array([1,2,3])</ins> rather than <ins>numpy.array([1,2,3])</ins>."
   ]
  },
  {
   "cell_type": "markdown",
   "id": "14a4c8f0-e071-4ddb-a26b-cef0f8ba45fe",
   "metadata": {},
   "source": [
    "NumPy.random (or np.random) is a function within Numpy. It allows you to generate  pseudorandom numbers (referred to as PRNGs) [4]. Pseudorandom numbers are defined as being values that are stastically random but derived from a known starting point [5]. "
   ]
  },
  {
   "cell_type": "markdown",
   "id": "d533db01-c284-4361-aac0-f1464e4c0fb4",
   "metadata": {},
   "source": [
    "### 2) Explain the use of the “Simple random data” and “Permutations” functions"
   ]
  },
  {
   "cell_type": "markdown",
   "id": "0b414fd9-8641-4c1f-8237-ae0500964542",
   "metadata": {},
   "source": [
    "### 2.1 Simple Random Data"
   ]
  },
  {
   "cell_type": "markdown",
   "id": "87d4ff3e-ede0-4be4-8dc9-6d511ca11028",
   "metadata": {},
   "source": [
    "Simple random data is a function of NumPy used to create  basic random number samples. Some examples below which I will demonstrate [6, 7]:\n",
    "\n",
    "- Rand\n",
    "- Randn\n",
    "- Random_sample\n",
    "- Bytes"
   ]
  },
  {
   "cell_type": "code",
   "execution_count": 3,
   "id": "5f7c9c43-12df-4310-a1bf-cbf853d8bbe9",
   "metadata": {},
   "outputs": [],
   "source": [
    "# import matplotlib\n",
    "import matplotlib.pyplot as plt\n",
    "# import pandas\n",
    "import pandas as pd\n",
    "# import seaborn\n",
    "import seaborn as sns"
   ]
  },
  {
   "cell_type": "code",
   "execution_count": 9,
   "id": "b74d03a2-9632-415e-94ab-195cb8417f86",
   "metadata": {},
   "outputs": [
    {
     "data": {
      "text/plain": [
       "array([[0.62168958, 0.1384901 , 0.14030176, 0.80620379, 0.21946762,\n",
       "        0.68779751, 0.00300549, 0.78356548, 0.93537449, 0.50568938],\n",
       "       [0.28310457, 0.84651056, 0.88459361, 0.9007325 , 0.45555393,\n",
       "        0.56472782, 0.25737636, 0.41007244, 0.20928788, 0.70290847],\n",
       "       [0.02759443, 0.96546189, 0.08046533, 0.54729224, 0.85662289,\n",
       "        0.85022044, 0.09837815, 0.846891  , 0.69508002, 0.27221826]])"
      ]
     },
     "execution_count": 9,
     "metadata": {},
     "output_type": "execute_result"
    }
   ],
   "source": [
    "np.random.rand(3,10) # Used to create an array of specified shape but populated with random values."
   ]
  },
  {
   "cell_type": "code",
   "execution_count": 8,
   "id": "40a8a6c7-c5f6-4df7-a061-a7d9c9819c13",
   "metadata": {},
   "outputs": [
    {
     "data": {
      "image/png": "[encoded data removed]",
      "text/plain": [
       "<Figure size 432x288 with 1 Axes>"
      ]
     },
     "metadata": {
      "needs_background": "light"
     },
     "output_type": "display_data"
    }
   ],
   "source": [
    "sns.distplot(np.random.rand(3,10) , hist=False)\n",
    "plt.show()\n",
    "\n",
    "import warnings\n",
    "warnings.simplefilter(action='ignore', category=FutureWarning) # Used to remove 'Future Warning message' as a result of code udpate for ''Distplot'' [11]"
   ]
  },
  {
   "cell_type": "code",
   "execution_count": 16,
   "id": "d505298d-b520-4d24-ba3b-38e59d9a65c0",
   "metadata": {},
   "outputs": [
    {
     "data": {
      "text/plain": [
       "array([[-0.50764195, -0.06831762, -0.08532962,  0.68605595,  1.89572092,\n",
       "         0.43292261,  1.6373257 ,  0.7071595 , -1.85032729,  1.09678891],\n",
       "       [ 0.05768553, -2.0341118 ,  1.58979475, -0.39818929,  0.9083243 ,\n",
       "         0.30044225, -0.15118637, -0.36660387,  0.25285384,  0.31355438],\n",
       "       [-1.45657253, -1.78727843, -0.43763332, -0.63025557, -0.47028103,\n",
       "         0.94115367,  0.69844831, -0.10155208, -1.10672273, -0.03649689]])"
      ]
     },
     "execution_count": 16,
     "metadata": {},
     "output_type": "execute_result"
    }
   ],
   "source": [
    "np.random.randn(3,10) # Randn gives random samples that follow the 'Standard Normal Distribution'"
   ]
  },
  {
   "cell_type": "code",
   "execution_count": 6,
   "id": "1ff1464c-38a1-4752-8f10-f5f6da90b4f0",
   "metadata": {},
   "outputs": [
    {
     "data": {
      "image/png": "[encoded data removed]",
      "text/plain": [
       "<Figure size 432x288 with 1 Axes>"
      ]
     },
     "metadata": {
      "needs_background": "light"
     },
     "output_type": "display_data"
    }
   ],
   "source": [
    "sns.distplot(np.random.randn(3,10) , hist=False)\n",
    "plt.show()"
   ]
  },
  {
   "cell_type": "code",
   "execution_count": 19,
   "id": "0fc3d097-42b1-40f9-b63a-145b6b037d68",
   "metadata": {},
   "outputs": [
    {
     "data": {
      "text/plain": [
       "0.35670555045523156"
      ]
     },
     "execution_count": 19,
     "metadata": {},
     "output_type": "execute_result"
    }
   ],
   "source": [
    "np.random.random_sample() # Returns random float from 0,1"
   ]
  },
  {
   "cell_type": "code",
   "execution_count": 22,
   "id": "e894c8fc-e2e4-4185-b586-79211eb0b218",
   "metadata": {},
   "outputs": [
    {
     "data": {
      "text/plain": [
       "array([0.97579208, 0.52802121, 0.87708631, 0.60094886])"
      ]
     },
     "execution_count": 22,
     "metadata": {},
     "output_type": "execute_result"
    }
   ],
   "source": [
    "np.random.random_sample(4) #Returning 4 ramdom samples"
   ]
  },
  {
   "cell_type": "code",
   "execution_count": 26,
   "id": "1cb25800-ac8b-4bcf-8e57-608e324007be",
   "metadata": {},
   "outputs": [
    {
     "data": {
      "text/plain": [
       "b'0c\\xfa\\xa0\\xb0\\x95\\xce\\xb5B\\xc8'"
      ]
     },
     "execution_count": 26,
     "metadata": {},
     "output_type": "execute_result"
    }
   ],
   "source": [
    "np.random.bytes(10) # Returns random bytes"
   ]
  },
  {
   "cell_type": "markdown",
   "id": "80433fc5-d695-4497-adf4-268f7b74468e",
   "metadata": {},
   "source": [
    "### 2.2 Permutations"
   ]
  },
  {
   "cell_type": "markdown",
   "id": "5ebf3d47-0a76-4eff-8d65-76cb2b779163",
   "metadata": {},
   "source": [
    "NumPy has two permutation functions [8];\n",
    "\n",
    "- Shuffle\n",
    "- Permutations\n",
    "\n",
    "I will demonstrate these below."
   ]
  },
  {
   "cell_type": "markdown",
   "id": "acf36127-6469-4a74-bb10-e947c71e78ee",
   "metadata": {},
   "source": [
    "### 2.2.1 - np.random.shuffle\n",
    "\n",
    "This fuction will take an array and shuffle the order."
   ]
  },
  {
   "cell_type": "code",
   "execution_count": 11,
   "id": "38077001-4e2d-4a4d-bd90-594c8af6f7b2",
   "metadata": {},
   "outputs": [
    {
     "name": "stdout",
     "output_type": "stream",
     "text": [
      "[1, 2, 3, 4, 5, 6, 7, 8, 9, 10, 11, 12, 13, 14, 15, 16, 17, 18, 19, 20, 21, 22, 23, 24, 25, 26, 27, 28, 29, 30, 31, 32, 33, 34, 35, 36, 37, 38, 39, 40, 41, 42, 43, 44, 45, 46, 47, 48, 49, 50, 51, 52]\n"
     ]
    }
   ],
   "source": [
    "Deck = list(range(1,53)) #List from 1 to 52 representing the 52 cards in a deck. Range needs to go to 53 to include ''52''.\n",
    "\n",
    "print(Deck) # Print list to show all cards in order."
   ]
  },
  {
   "cell_type": "code",
   "execution_count": 16,
   "id": "77413c38-a4f4-438f-bff8-8d7f9610665d",
   "metadata": {},
   "outputs": [
    {
     "name": "stdout",
     "output_type": "stream",
     "text": [
      "[14, 32, 34, 52, 47, 28, 24, 44, 17, 4, 36, 25, 30, 35, 16, 9, 11, 15, 26, 50, 31, 39, 49, 22, 37, 2, 6, 46, 12, 23, 43, 29, 27, 7, 20, 51, 45, 18, 33, 19, 42, 10, 48, 3, 5, 13, 1, 21, 41, 40, 38, 8]\n"
     ]
    }
   ],
   "source": [
    "Deck = list(range(1,53))\n",
    "np.random.shuffle(Deck) # To shuffle the cards\n",
    "print (Deck)"
   ]
  },
  {
   "cell_type": "markdown",
   "id": "5f0679f5-af9f-4dd4-bf5b-5176c5778550",
   "metadata": {},
   "source": [
    "### 2.2.2 - np.random.permutation\n",
    "\n",
    "This function will randomly permute a sequence, or return a permuted range [9]."
   ]
  },
  {
   "cell_type": "code",
   "execution_count": 18,
   "id": "944cc78b-fd48-46d5-baff-c0ebd24abe24",
   "metadata": {},
   "outputs": [
    {
     "data": {
      "text/plain": [
       "array(['Diamonds', 'Clubs', 'Spades', 'Hearts'], dtype='<U8')"
      ]
     },
     "execution_count": 18,
     "metadata": {},
     "output_type": "execute_result"
    }
   ],
   "source": [
    "np.random.permutation(['Hearts', 'Diamonds', 'Spades', 'Clubs']) # Take the suits of a deck of cards and output a random permutation."
   ]
  },
  {
   "cell_type": "markdown",
   "id": "27c8821b-d33b-42d3-82bf-0628ac360e4b",
   "metadata": {},
   "source": [
    "### 3) Explain the use and purpose of at least five “Distributions” functions."
   ]
  },
  {
   "cell_type": "markdown",
   "id": "b7897bc0-d27a-44b0-b5f4-51973171c57c",
   "metadata": {},
   "source": [
    "Distribution in statistics is the spread of values for a certain perameter and how often they occur.There are a number of distribution functions within NumPy, I will look at 5 below."
   ]
  },
  {
   "cell_type": "markdown",
   "id": "384444d0-2349-463c-8db3-1faa0f4e96e9",
   "metadata": {},
   "source": [
    "### 3.1 - numpy.random.exponential\n",
    "\n",
    "Exponential distribution is one of the most commonly used continuous distributions, used most often to show the elapsed time between events[10], or in other words, the time until the next event.\n",
    "The mathematical formula for exponential distribution is below.The NumPy manual explains the formulas as;\n",
    "''For x > 0 and 0 elsewhere. is the scale parameter, which is the inverse of the rate parameter λ = 1/β. The rate parameter is an alternative, widely used parameterization of the exponential distribution''[12].\n"
   ]
  },
  {
   "cell_type": "markdown",
   "id": "7dd515d2-d65b-46e4-96c2-3a2d06951ab1",
   "metadata": {},
   "source": [
    "![](exponential_dist.png)"
   ]
  },
  {
   "cell_type": "markdown",
   "id": "4a35fd75-93cf-4343-8b88-e81507419e16",
   "metadata": {},
   "source": [
    "Using the random.exponential function, we can domonstrate exponential distribution."
   ]
  },
  {
   "cell_type": "code",
   "execution_count": 23,
   "id": "6c4674b5-181a-4520-ae01-aa0846354c96",
   "metadata": {},
   "outputs": [
    {
     "data": {
      "text/plain": [
       "array([1.22391012, 0.48178828, 4.47468214, 0.19115507, 1.90172485,\n",
       "       2.9116499 , 4.43778732, 0.40936004, 5.04312962, 0.93605893])"
      ]
     },
     "execution_count": 23,
     "metadata": {},
     "output_type": "execute_result"
    }
   ],
   "source": [
    "np.random.exponential(2, 10) # ED with a scale of 2 and size 10"
   ]
  },
  {
   "cell_type": "code",
   "execution_count": 30,
   "id": "d9c85e44-0011-4ef0-8a76-f2a472ff34b9",
   "metadata": {},
   "outputs": [
    {
     "data": {
      "image/png": "[encoded data removed]",
      "text/plain": [
       "<Figure size 432x288 with 1 Axes>"
      ]
     },
     "metadata": {
      "needs_background": "light"
     },
     "output_type": "display_data"
    }
   ],
   "source": [
    "sns.distplot(np.random.exponential(2,1000), hist=False) # ED with a scale of 2 and size 1000. \n",
    "plt.show()"
   ]
  },
  {
   "cell_type": "markdown",
   "id": "3ad9307f-79fe-49a2-b9c4-b846c0bf0682",
   "metadata": {},
   "source": [
    "### 3.2 - numpy.random.normal"
   ]
  },
  {
   "cell_type": "markdown",
   "id": "ed246401-2292-48f4-9507-1f3375f24f84",
   "metadata": {},
   "source": [
    "Normal distribution, also known as Gaussion Distribution, is the most common distribution pattern for randomly generated values.\n",
    "It is represented by a 'Bell Curve' - showing that most values lie closest to the mean rather than further away."
   ]
  },
  {
   "cell_type": "code",
   "execution_count": 22,
   "id": "ffcd9cff-871c-46a6-8cb6-6900fce80a4d",
   "metadata": {},
   "outputs": [
    {
     "data": {
      "image/png": "[encoded data removed]",
      "text/plain": [
       "<Figure size 432x288 with 1 Axes>"
      ]
     },
     "metadata": {
      "needs_background": "light"
     },
     "output_type": "display_data"
    }
   ],
   "source": [
    "sns.distplot(np.random.normal(50,1,1000)) # Normal distribution with mean of 50, standard deviation of 1 and sample size of 1000.\n",
    "plt.show()"
   ]
  },
  {
   "cell_type": "markdown",
   "id": "aea84a27-979d-4873-b621-e6b0d39b3a69",
   "metadata": {},
   "source": [
    "As we can see from the graph, most results are congregated around the mean (50)."
   ]
  },
  {
   "cell_type": "markdown",
   "id": "c3a62e62-68ff-4c22-bc31-aae16da8811c",
   "metadata": {},
   "source": [
    "### 3.3 - numpy.random.standard_normal"
   ]
  },
  {
   "cell_type": "markdown",
   "id": "48053ee0-2074-4931-9bd9-ec7a61fed86f",
   "metadata": {},
   "source": [
    "Standard normal distribution is again represented by a 'Bell Curve' with most results lying closest to the mean.\n",
    "Where standard normal distribution and normal disctribution differ is the 'mean' and 'standard deviation' values.\n",
    "As shown in 3.2, for normal distribution we can manipulate the mean and standard deviation values. This is not possible for standard normal distribution, these values are fixed."
   ]
  },
  {
   "cell_type": "code",
   "execution_count": 18,
   "id": "31289fcc-9004-4224-ad9a-6cac607b98d8",
   "metadata": {},
   "outputs": [
    {
     "data": {
      "image/png": "[encoded data removed]",
      "text/plain": [
       "<Figure size 432x288 with 1 Axes>"
      ]
     },
     "metadata": {
      "needs_background": "light"
     },
     "output_type": "display_data"
    }
   ],
   "source": [
    "sns.histplot(np.random.standard_normal(1000)) # Standard normal distribution with 1000 sample size.\n",
    "plt.show()"
   ]
  },
  {
   "cell_type": "markdown",
   "id": "d3b12914-4e17-4cf2-8926-866c36f000e0",
   "metadata": {},
   "source": [
    "### 3.4 - numpy.random.poisson"
   ]
  },
  {
   "cell_type": "markdown",
   "id": "2c051319-22fe-4dfc-bffe-ea8e7a13cbe2",
   "metadata": {},
   "source": [
    "Poisson distribution, named after French mathematician Siméon Denis Poisson, is a probability distribution htat shows how many times an event will occur over a certain time [13].\n",
    "The mathematical formula for poisson distribution is below;"
   ]
  },
  {
   "cell_type": "markdown",
   "id": "68544602-37b8-4eae-9c76-f673e2d6fa12",
   "metadata": {},
   "source": [
    "![](Poisson_Dist.png)"
   ]
  },
  {
   "cell_type": "markdown",
   "id": "d9ec5c3a-219e-4117-a302-fa2ab74c6ffe",
   "metadata": {},
   "source": [
    "The NumPy manual describes it as''for events with an expected separation λ, the Poisson distribution f(k;λ) describes the probability of events occurring within the observed interval λ[14]''.\n",
    "i.e) k - the number of times an event will occur\n",
    "     λ - the expected number of events in a give time.\n"
   ]
  },
  {
   "cell_type": "code",
   "execution_count": 5,
   "id": "6450c43e-5e49-404d-bc15-558e691e8f6d",
   "metadata": {},
   "outputs": [
    {
     "data": {
      "text/plain": [
       "array([ 4,  4,  3,  6,  7,  8,  6,  4,  3,  5,  3,  7,  3,  1, 10,  3,  6,\n",
       "        4,  6,  5, 11,  2,  2,  6,  7,  4,  6,  5,  4,  9, 11,  5,  4,  5,\n",
       "        5,  3,  8,  6,  3,  3,  4,  2,  4,  5,  4,  8, 11,  5,  2,  5,  5,\n",
       "        7,  6,  7,  3,  7,  6,  7,  6,  8,  3,  4,  3,  7,  3,  2,  5,  8,\n",
       "        4,  3,  2,  2,  7,  4,  5, 10,  3,  7,  9,  2,  8,  4,  4,  5,  5,\n",
       "        3,  2,  5,  7,  3,  3,  8,  4,  8,  4,  4,  2,  5,  6,  4,  5,  4,\n",
       "        6,  5,  4,  3,  6,  6,  7,  3,  3,  5,  5,  6,  6,  8,  2,  3,  1,\n",
       "        6,  5,  4,  6,  9,  3,  4,  4,  2,  4,  9,  7,  5,  8,  4,  3,  6,\n",
       "        6,  3,  4,  6,  3,  3,  6,  4,  5,  3,  4,  7,  3,  5,  9,  9,  5,\n",
       "        6,  4,  1,  7,  2,  9,  7,  2,  5,  3,  5,  8,  3,  6,  1,  6,  7,\n",
       "        5,  9,  6,  7,  5,  3,  3,  3,  2,  3,  5,  8,  7,  8,  3,  5,  4,\n",
       "        4,  6,  7,  6,  4,  4,  6,  3,  3,  2,  6,  7,  5])"
      ]
     },
     "execution_count": 5,
     "metadata": {},
     "output_type": "execute_result"
    }
   ],
   "source": [
    "np.random.poisson(5,200) # λ = 5, size = 200"
   ]
  },
  {
   "cell_type": "code",
   "execution_count": 9,
   "id": "33f30300-8116-48c3-8b89-1d0b7ebf4dc9",
   "metadata": {},
   "outputs": [
    {
     "data": {
      "image/png": "[encoded data removed]",
      "text/plain": [
       "<Figure size 432x288 with 1 Axes>"
      ]
     },
     "metadata": {
      "needs_background": "light"
     },
     "output_type": "display_data"
    }
   ],
   "source": [
    "sns.distplot(np.random.poisson(5,200))\n",
    "plt.show()"
   ]
  },
  {
   "cell_type": "markdown",
   "id": "5e9e173c-9021-4323-8532-5120c59a38f5",
   "metadata": {},
   "source": [
    "### 3.5 - numpy.random.binomial"
   ]
  },
  {
   "cell_type": "markdown",
   "id": "41bcdfd1-2eea-451e-9dcd-6a4040912529",
   "metadata": {},
   "source": [
    "Binomial distribution is a probability distribution in which there are only two possible outcomes, success or failure, for the given parameters.\n",
    "For example, a soccer player taking a penalty has two outcomes. Success = scoring the goal. Failure = not scoring the goal.\n",
    "Continuing this example, according to InStat Sport, success rate for penalties is approx 75%. We can represent this below using NumPy Binomial distribution[15]."
   ]
  },
  {
   "cell_type": "code",
   "execution_count": 26,
   "id": "288b2482-7fec-46bb-a271-1576cb78728b",
   "metadata": {},
   "outputs": [
    {
     "data": {
      "text/plain": [
       "<AxesSubplot:xlabel='Successes', ylabel='Probability'>"
      ]
     },
     "execution_count": 26,
     "metadata": {},
     "output_type": "execute_result"
    },
    {
     "data": {
      "image/png": "[encoded data removed]",
      "text/plain": [
       "<Figure size 432x288 with 1 Axes>"
      ]
     },
     "metadata": {
      "needs_background": "light"
     },
     "output_type": "display_data"
    }
   ],
   "source": [
    "np.random.binomial(n=100, p=0.75, size=100) # Player takes 100 penalties with an expected success rate of 75%.\n",
    "plt.xlabel('Successes')\n",
    "plt.ylabel('Probability')\n",
    "sns.distplot(np.random.binomial(n=100, p=0.75, size=100))\n"
   ]
  },
  {
   "cell_type": "markdown",
   "id": "a7486859-aedc-4861-b8aa-91cdbf37dd44",
   "metadata": {
    "tags": []
   },
   "source": [
    "### 4) Explain the use of seeds in generating pseudorandom numbers"
   ]
  },
  {
   "cell_type": "markdown",
   "id": "1f82f4c2-4667-4ae9-9981-c1edf16d74b8",
   "metadata": {},
   "source": [
    "A seed (or random seed) is the initial point in a sequence of pseudorandom numbers. If you start from the same seed, you will get the same sequence. Seeds are needed as computers do not generate truly random numbers. By setting out rules (or formula), we can generate seemingly random numbers. However, once you know the seed, you should be able to predict the sequence. The overall purpose of the seed is to set the pseudorandom number generator, which allows for replicable analysis[17]."
   ]
  },
  {
   "cell_type": "markdown",
   "id": "9c28cc4c-e4aa-4d22-a3c4-ee326038542e",
   "metadata": {},
   "source": [
    "* Below I will create an array with 3 lists that contain numbers 1 -9. Each time the code is run, the shuffled sequences will be different. "
   ]
  },
  {
   "cell_type": "code",
   "execution_count": 26,
   "id": "cbf9d078-2488-4bb6-b315-16e86ab8aac7",
   "metadata": {},
   "outputs": [
    {
     "name": "stdout",
     "output_type": "stream",
     "text": [
      "[8 9 5 2 6 7 4 1 3]\n",
      "[3 9 1 7 6 8 2 4 5]\n",
      "[6 3 9 8 7 2 4 1 5]\n"
     ]
    }
   ],
   "source": [
    "for i in range(3):\n",
    "    x = np.arange(1,10)\n",
    "    np.random.shuffle(x)\n",
    "    print(x)\n"
   ]
  },
  {
   "cell_type": "markdown",
   "id": "d866e972-8177-4ea2-947b-615697532522",
   "metadata": {},
   "source": [
    "* If I now set the seed, the same sequence will be produced each time."
   ]
  },
  {
   "cell_type": "code",
   "execution_count": 12,
   "id": "c83f7f7f-423d-44e7-ab02-397a35c9c26a",
   "metadata": {},
   "outputs": [
    {
     "name": "stdout",
     "output_type": "stream",
     "text": [
      "[8 3 2 5 9 7 4 1 6]\n",
      "[8 3 2 5 9 7 4 1 6]\n",
      "[8 3 2 5 9 7 4 1 6]\n"
     ]
    }
   ],
   "source": [
    "for i in range(3):\n",
    "    x = np.arange(1,10)\n",
    "    np.random.seed(0)\n",
    "    np.random.shuffle(x)\n",
    "    print(x)"
   ]
  },
  {
   "cell_type": "markdown",
   "id": "58688107-92eb-4ff0-931b-9c2eb3818258",
   "metadata": {},
   "source": [
    "### References"
   ]
  },
  {
   "cell_type": "code",
   "execution_count": null,
   "id": "188ed8b5-df91-430f-a3ae-12bf35a24df6",
   "metadata": {},
   "outputs": [],
   "source": [
    "1) https://numpy.org/doc/stable/user/whatisnumpy.html\n",
    "2) https://numpy.org/doc/1.15/about.html\n",
    "3) https://numpy.org/about/\n",
    "4) https://numpy.org/doc/stable/reference/random/index.html#module-numpy.random\n",
    "5) https://encyclopedia2.thefreedictionary.com/pseudo-random+numbers\n",
    "6) https://numpy.org/doc/1.16/reference/routines.random.html\n",
    "7) https://www.javatpoint.com/numpy-random\n",
    "8) https://numpy.org/doc/1.16/reference/generated/numpy.random.shuffle.html#numpy.random.shuffle\n",
    "9) https://numpy.org/doc/stable/reference/random/generated/numpy.random.permutation.html\n",
    "10) https://www.probabilitycourse.com/chapter4/4_2_2_exponential.php\n",
    "11) https://stackoverflow.com/questions/53334421/futurewarning-with-distplot-in-seaborn\n",
    "12) https://numpy.org/doc/stable/reference/random/generated/numpy.random.exponential.html\n",
    "13) https://www.investopedia.com/terms/p/poisson-distribution.asp\n",
    "14) https://numpy.org/doc/stable/reference/random/generated/numpy.random.poisson.html\n",
    "15) https://instatsport.com/football/article/penalty_research\n",
    "17) https://stats.stackexchange.com/questions/354373/what-exactly-is-a-seed-in-a-random-number-generator"
   ]
  }
 ],
 "metadata": {
  "kernelspec": {
   "display_name": "Python 3",
   "language": "python",
   "name": "python3"
  },
  "language_info": {
   "codemirror_mode": {
    "name": "ipython",
    "version": 3
   },
   "file_extension": ".py",
   "mimetype": "text/x-python",
   "name": "python",
   "nbconvert_exporter": "python",
   "pygments_lexer": "ipython3",
   "version": "3.8.8"
  },
  "toc-showcode": true
 },
 "nbformat": 4,
 "nbformat_minor": 5
}
