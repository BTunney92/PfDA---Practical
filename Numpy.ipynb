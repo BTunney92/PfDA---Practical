{
 "cells": [
  {
   "cell_type": "markdown",
   "id": "a533e402-0fd5-4d52-b367-26eb9d211e21",
   "metadata": {},
   "source": [
    "## Programming for Data Analysis  - Practical\n",
    "### Author: Brendan Tunney\n",
    "### Student ID - G00270683"
   ]
  },
  {
   "cell_type": "markdown",
   "id": "9262429b-cc30-4732-8e49-c73edaa4ea1e",
   "metadata": {},
   "source": [
    " ![](NumpyLogo.png)\n"
   ]
  },
  {
   "cell_type": "markdown",
   "id": "8deb2f19-3d8b-4b4a-9646-1bff7a493871",
   "metadata": {},
   "source": [
    "### 1) Explain the overall purpose of the package\n",
    "NumPy is a data science package within Python. This Python library supports multi dimensional arrays and matrices [1].\n",
    "It is a successor to two Python libraries, Numeric & Numarray , created by Travis Oliphant in 2005 [2]. It is an open source software, free for all to use [3].\n",
    "\n",
    "NumPy can be imported to your notebook as below.       "
   ]
  },
  {
   "cell_type": "code",
   "execution_count": 4,
   "id": "5043ea8d-f7ce-4938-af4f-27df946396c1",
   "metadata": {},
   "outputs": [],
   "source": [
    "import numpy as np"
   ]
  },
  {
   "cell_type": "markdown",
   "id": "3777eed2-4929-4ce8-adf5-7b74fa1b879c",
   "metadata": {},
   "source": [
    "It is imported ''as np'' to avoid having to type ''numpy'' for each command. ie) <ins>np.array([1,2,3])</ins> rather than <ins>numpy.array([1,2,3])</ins>."
   ]
  },
  {
   "cell_type": "markdown",
   "id": "14a4c8f0-e071-4ddb-a26b-cef0f8ba45fe",
   "metadata": {},
   "source": [
    "NumPy.random (or np.random) is a function within Numpy. It allows you to generate  pseudorandom numbers (referred to as PRNGs) [4]. Pseudorandom numbers are defined as being values that are stastically random but derived from a known starting point [5]. "
   ]
  },
  {
   "cell_type": "markdown",
   "id": "d533db01-c284-4361-aac0-f1464e4c0fb4",
   "metadata": {},
   "source": [
    "### 2) Explain the use of the “Simple random data” and “Permutations” functions"
   ]
  },
  {
   "cell_type": "markdown",
   "id": "0b414fd9-8641-4c1f-8237-ae0500964542",
   "metadata": {},
   "source": [
    "### 2.1 Simple Random Data"
   ]
  },
  {
   "cell_type": "markdown",
   "id": "87d4ff3e-ede0-4be4-8dc9-6d511ca11028",
   "metadata": {},
   "source": [
    "Simple random data is a function of NumPy used to create  basic random number samples. Some examples below which I will demonstrate [6]:\n",
    "\n",
    "- Rand\n",
    "- Randn\n",
    "- Random_integers\n",
    "- Choice\n",
    "- Bytes"
   ]
  },
  {
   "cell_type": "code",
   "execution_count": 2,
   "id": "5f7c9c43-12df-4310-a1bf-cbf853d8bbe9",
   "metadata": {},
   "outputs": [],
   "source": [
    "# import matplotlib\n",
    "import matplotlib.pyplot as plt\n",
    "# import pandas\n",
    "import pandas as pd\n",
    "# import seaborn\n",
    "import seaborn as sns"
   ]
  },
  {
   "cell_type": "code",
   "execution_count": 29,
   "id": "b74d03a2-9632-415e-94ab-195cb8417f86",
   "metadata": {},
   "outputs": [
    {
     "data": {
      "text/plain": [
       "array([[0.33970019, 0.41578576, 0.95642085, 0.65493804, 0.66533147,\n",
       "        0.98266017, 0.87989509, 0.62509743, 0.10430709, 0.23018088],\n",
       "       [0.38413693, 0.97058461, 0.65613246, 0.95227304, 0.59734896,\n",
       "        0.52654397, 0.89731469, 0.25085339, 0.57042693, 0.65457739],\n",
       "       [0.4438066 , 0.57862366, 0.4829167 , 0.10791927, 0.97192757,\n",
       "        0.1244985 , 0.90744797, 0.13036149, 0.12457011, 0.98003198]])"
      ]
     },
     "execution_count": 29,
     "metadata": {},
     "output_type": "execute_result"
    }
   ],
   "source": [
    "np.random.rand(3,10) # Used to create an array of specified shape but populated with random values."
   ]
  },
  {
   "cell_type": "code",
   "execution_count": 34,
   "id": "40a8a6c7-c5f6-4df7-a061-a7d9c9819c13",
   "metadata": {},
   "outputs": [
    {
     "data": {
      "image/png": "[encoded data removed]",
      "text/plain": [
       "<Figure size 432x288 with 1 Axes>"
      ]
     },
     "metadata": {
      "needs_background": "light"
     },
     "output_type": "display_data"
    }
   ],
   "source": [
    "x = np.random.rand(3,10)\n",
    "y = np.random.rand(3,10)\n",
    "plt.scatter(x, y, color='r')\n",
    "plt.title(\"Distribution using NumPy.random.rand()\")\n",
    "plt.show()"
   ]
  },
  {
   "cell_type": "code",
   "execution_count": 30,
   "id": "d505298d-b520-4d24-ba3b-38e59d9a65c0",
   "metadata": {},
   "outputs": [
    {
     "data": {
      "text/plain": [
       "array([[ 4.75109186e-01,  8.04837382e-01, -2.66959284e+00,\n",
       "        -5.77224886e-01,  4.36206482e-01, -6.63898960e-01,\n",
       "         1.44537183e+00, -1.94890497e-01,  2.70113586e-01,\n",
       "        -1.78933328e-01],\n",
       "       [ 1.20611022e+00, -3.49330672e-01,  1.37915741e+00,\n",
       "         2.13617094e-01, -6.69724914e-02, -5.64524012e-01,\n",
       "        -3.74986300e-01, -2.53379465e-01,  1.64831224e-02,\n",
       "        -1.57077680e+00],\n",
       "       [ 8.33866187e-01, -7.48953019e-02,  4.46743422e-01,\n",
       "        -6.36229800e-01, -1.26991721e+00,  7.75167845e-01,\n",
       "         7.14285431e-04, -2.71205459e-01, -1.14166610e+00,\n",
       "         3.49025931e-01]])"
      ]
     },
     "execution_count": 30,
     "metadata": {},
     "output_type": "execute_result"
    }
   ],
   "source": [
    "np.random.randn(3,10)"
   ]
  },
  {
   "cell_type": "code",
   "execution_count": 35,
   "id": "1ff1464c-38a1-4752-8f10-f5f6da90b4f0",
   "metadata": {},
   "outputs": [
    {
     "data": {
      "image/png": "[encoded data removed]",
      "text/plain": [
       "<Figure size 432x288 with 1 Axes>"
      ]
     },
     "metadata": {
      "needs_background": "light"
     },
     "output_type": "display_data"
    }
   ],
   "source": [
    "x = np.random.randn(3,10)\n",
    "y = np.random.randn(3,10)\n",
    "plt.scatter(x, y, color='r')\n",
    "plt.title(\"Distribution using NumPy.random.randn()\")\n",
    "plt.show()\n",
    "\n"
   ]
  },
  {
   "cell_type": "markdown",
   "id": "a7486859-aedc-4861-b8aa-91cdbf37dd44",
   "metadata": {},
   "source": [
    "## 4) "
   ]
  },
  {
   "cell_type": "markdown",
   "id": "1f82f4c2-4667-4ae9-9981-c1edf16d74b8",
   "metadata": {},
   "source": [
    "A seed (or random seed) is the initial point in a sequence of pseudorandom numbers. If you start from the same seed, you will get the same sequence. Seeds are needed as computers do not generate truly random numbers. By setting out rules (or formula), we can generate seemingly random numbers. However, once you know the seed, you should be able to predict the sequence."
   ]
  }
 ],
 "metadata": {
  "kernelspec": {
   "display_name": "Python 3",
   "language": "python",
   "name": "python3"
  },
  "language_info": {
   "codemirror_mode": {
    "name": "ipython",
    "version": 3
   },
   "file_extension": ".py",
   "mimetype": "text/x-python",
   "name": "python",
   "nbconvert_exporter": "python",
   "pygments_lexer": "ipython3",
   "version": "3.8.8"
  },
  "toc-showcode": true
 },
 "nbformat": 4,
 "nbformat_minor": 5
}
