{
 "cells": [
  {
   "cell_type": "markdown",
   "id": "a533e402-0fd5-4d52-b367-26eb9d211e21",
   "metadata": {},
   "source": [
    "## Programming for Data Analysis  - Practical\n",
    "### Author: Brendan Tunney\n",
    "### Student ID - G00270683"
   ]
  },
  {
   "cell_type": "markdown",
   "id": "9262429b-cc30-4732-8e49-c73edaa4ea1e",
   "metadata": {},
   "source": [
    " ![](NumpyLogo.png)\n"
   ]
  },
  {
   "cell_type": "markdown",
   "id": "8deb2f19-3d8b-4b4a-9646-1bff7a493871",
   "metadata": {},
   "source": [
    "### 1) Explain the overall purpose of the package\n",
    "NumPy is a data science package within Python. This Python library supports multi dimensional arrays and matrices [1].\n",
    "It is a successor to two Python libraries, Numeric & Numarray , created by Travis Oliphant in 2005 [2]. It is an open source software, free for all to use [3].\n",
    "\n",
    "NumPy can be imported to your notebook as below.       "
   ]
  },
  {
   "cell_type": "code",
   "execution_count": 1,
   "id": "5043ea8d-f7ce-4938-af4f-27df946396c1",
   "metadata": {},
   "outputs": [],
   "source": [
    "import numpy as np"
   ]
  },
  {
   "cell_type": "markdown",
   "id": "3777eed2-4929-4ce8-adf5-7b74fa1b879c",
   "metadata": {},
   "source": [
    "It is imported ''as np'' to avoid having to type ''numpy'' for each command. ie) <ins>np.array([1,2,3])</ins> rather than <ins>numpy.array([1,2,3])</ins>."
   ]
  },
  {
   "cell_type": "markdown",
   "id": "14a4c8f0-e071-4ddb-a26b-cef0f8ba45fe",
   "metadata": {},
   "source": [
    "NumPy.random (or np.random) is a function within Numpy. It allows you to generate  pseudorandom numbers (referred to as PRNGs) [4]. Pseudorandom numbers are defined as being values that are stastically random but derived from a known starting point [5]. "
   ]
  },
  {
   "cell_type": "markdown",
   "id": "d533db01-c284-4361-aac0-f1464e4c0fb4",
   "metadata": {},
   "source": [
    "### 2) Explain the use of the “Simple random data” and “Permutations” functions"
   ]
  },
  {
   "cell_type": "markdown",
   "id": "0b414fd9-8641-4c1f-8237-ae0500964542",
   "metadata": {},
   "source": [
    "### 2.1 Simple Random Data"
   ]
  },
  {
   "cell_type": "markdown",
   "id": "a7486859-aedc-4861-b8aa-91cdbf37dd44",
   "metadata": {},
   "source": [
    "## 4) "
   ]
  },
  {
   "cell_type": "markdown",
   "id": "1f82f4c2-4667-4ae9-9981-c1edf16d74b8",
   "metadata": {},
   "source": [
    "A seed (or random seed) is the initial point in a sequence of pseudorandom numbers. If you start from the same seed, you will get the same sequence. Seeds are needed as computers do not generate truly random numbers. By setting out rules (or formula), we can generate seemingly random numbers. However, once you know the seed, you should be able to predict the sequence."
   ]
  }
 ],
 "metadata": {
  "kernelspec": {
   "display_name": "Python 3",
   "language": "python",
   "name": "python3"
  },
  "language_info": {
   "codemirror_mode": {
    "name": "ipython",
    "version": 3
   },
   "file_extension": ".py",
   "mimetype": "text/x-python",
   "name": "python",
   "nbconvert_exporter": "python",
   "pygments_lexer": "ipython3",
   "version": "3.8.8"
  },
  "toc-showcode": true
 },
 "nbformat": 4,
 "nbformat_minor": 5
}
