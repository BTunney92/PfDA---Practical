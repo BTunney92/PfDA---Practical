{
 "cells": [
  {
   "cell_type": "markdown",
   "id": "a533e402-0fd5-4d52-b367-26eb9d211e21",
   "metadata": {},
   "source": [
    "## Programming for Data Analysis  - Practical\n",
    "### Author: Brendan Tunney\n",
    "### Student ID - G00270683"
   ]
  },
  {
   "cell_type": "markdown",
   "id": "9262429b-cc30-4732-8e49-c73edaa4ea1e",
   "metadata": {},
   "source": [
    " ![](NumpyLogo.png)\n"
   ]
  },
  {
   "cell_type": "markdown",
   "id": "8deb2f19-3d8b-4b4a-9646-1bff7a493871",
   "metadata": {},
   "source": [
    "### 1) Explain the overall purpose of the package\n",
    "NumPy is a data science package within Python. This Python library supports multi dimensional arrays and matrices [1].\n",
    "It is a successor to two Python libraries, Numeric & Numarray , created by Travis Oliphant in 2005 [2]. It is an open source software, free for all to use [3].\n",
    "\n",
    "NumPy can be imported to your notebook as below.       "
   ]
  },
  {
   "cell_type": "code",
   "execution_count": 8,
   "id": "5043ea8d-f7ce-4938-af4f-27df946396c1",
   "metadata": {},
   "outputs": [],
   "source": [
    "import numpy as np"
   ]
  },
  {
   "cell_type": "markdown",
   "id": "3777eed2-4929-4ce8-adf5-7b74fa1b879c",
   "metadata": {},
   "source": [
    "It is imported ''as np'' to avoid having to type ''numpy'' for each command. ie) <ins>np.array([1,2,3])</ins> rather than <ins>numpy.array([1,2,3])</ins>."
   ]
  },
  {
   "cell_type": "markdown",
   "id": "14a4c8f0-e071-4ddb-a26b-cef0f8ba45fe",
   "metadata": {},
   "source": [
    "NumPy.random (or np.random) is a function within Numpy. It allows you to generate  pseudorandom numbers (referred to as PRNGs) [4]. Pseudorandom numbers are defined as being values that are stastically random but derived from a known starting point [5]. "
   ]
  },
  {
   "cell_type": "markdown",
   "id": "d533db01-c284-4361-aac0-f1464e4c0fb4",
   "metadata": {},
   "source": [
    "### 2) Explain the use of the “Simple random data” and “Permutations” functions"
   ]
  },
  {
   "cell_type": "markdown",
   "id": "0b414fd9-8641-4c1f-8237-ae0500964542",
   "metadata": {},
   "source": [
    "### 2.1 Simple Random Data"
   ]
  },
  {
   "cell_type": "markdown",
   "id": "87d4ff3e-ede0-4be4-8dc9-6d511ca11028",
   "metadata": {},
   "source": [
    "Simple random data is a function of NumPy used to create  basic random number samples. Some examples below which I will demonstrate [6, 7]:\n",
    "\n",
    "- Rand\n",
    "- Randn\n",
    "- Random_sample\n",
    "- Bytes"
   ]
  },
  {
   "cell_type": "code",
   "execution_count": 5,
   "id": "5f7c9c43-12df-4310-a1bf-cbf853d8bbe9",
   "metadata": {},
   "outputs": [],
   "source": [
    "# import matplotlib\n",
    "import matplotlib.pyplot as plt\n",
    "# import pandas\n",
    "import pandas as pd\n",
    "# import seaborn\n",
    "import seaborn as sns"
   ]
  },
  {
   "cell_type": "code",
   "execution_count": 9,
   "id": "b74d03a2-9632-415e-94ab-195cb8417f86",
   "metadata": {},
   "outputs": [
    {
     "data": {
      "text/plain": [
       "array([[0.62168958, 0.1384901 , 0.14030176, 0.80620379, 0.21946762,\n",
       "        0.68779751, 0.00300549, 0.78356548, 0.93537449, 0.50568938],\n",
       "       [0.28310457, 0.84651056, 0.88459361, 0.9007325 , 0.45555393,\n",
       "        0.56472782, 0.25737636, 0.41007244, 0.20928788, 0.70290847],\n",
       "       [0.02759443, 0.96546189, 0.08046533, 0.54729224, 0.85662289,\n",
       "        0.85022044, 0.09837815, 0.846891  , 0.69508002, 0.27221826]])"
      ]
     },
     "execution_count": 9,
     "metadata": {},
     "output_type": "execute_result"
    }
   ],
   "source": [
    "np.random.rand(3,10) # Used to create an array of specified shape but populated with random values."
   ]
  },
  {
   "cell_type": "code",
   "execution_count": 15,
   "id": "40a8a6c7-c5f6-4df7-a061-a7d9c9819c13",
   "metadata": {},
   "outputs": [
    {
     "data": {
      "image/png": "[encoded data removed]",
      "text/plain": [
       "<Figure size 432x288 with 1 Axes>"
      ]
     },
     "metadata": {
      "needs_background": "light"
     },
     "output_type": "display_data"
    }
   ],
   "source": [
    "x = np.random.rand(3,10)\n",
    "y = np.random.rand(3,10)\n",
    "plt.scatter(x, y, color='k')\n",
    "plt.title(\"Distribution using NumPy.random.rand()\")\n",
    "plt.show()"
   ]
  },
  {
   "cell_type": "code",
   "execution_count": 16,
   "id": "d505298d-b520-4d24-ba3b-38e59d9a65c0",
   "metadata": {},
   "outputs": [
    {
     "data": {
      "text/plain": [
       "array([[-0.50764195, -0.06831762, -0.08532962,  0.68605595,  1.89572092,\n",
       "         0.43292261,  1.6373257 ,  0.7071595 , -1.85032729,  1.09678891],\n",
       "       [ 0.05768553, -2.0341118 ,  1.58979475, -0.39818929,  0.9083243 ,\n",
       "         0.30044225, -0.15118637, -0.36660387,  0.25285384,  0.31355438],\n",
       "       [-1.45657253, -1.78727843, -0.43763332, -0.63025557, -0.47028103,\n",
       "         0.94115367,  0.69844831, -0.10155208, -1.10672273, -0.03649689]])"
      ]
     },
     "execution_count": 16,
     "metadata": {},
     "output_type": "execute_result"
    }
   ],
   "source": [
    "np.random.randn(3,10) # Randn gives random samples that follow the 'Standard Normal Distribution'"
   ]
  },
  {
   "cell_type": "code",
   "execution_count": 17,
   "id": "1ff1464c-38a1-4752-8f10-f5f6da90b4f0",
   "metadata": {},
   "outputs": [
    {
     "data": {
      "image/png": "[encoded data removed]",
      "text/plain": [
       "<Figure size 432x288 with 1 Axes>"
      ]
     },
     "metadata": {
      "needs_background": "light"
     },
     "output_type": "display_data"
    }
   ],
   "source": [
    "x = np.random.randn(3,10)\n",
    "y = np.random.randn(3,10)\n",
    "plt.scatter(x, y, color='k')\n",
    "plt.title(\"Distribution using NumPy.random.randn()\")\n",
    "plt.show()\n",
    "\n"
   ]
  },
  {
   "cell_type": "code",
   "execution_count": 19,
   "id": "0fc3d097-42b1-40f9-b63a-145b6b037d68",
   "metadata": {},
   "outputs": [
    {
     "data": {
      "text/plain": [
       "0.35670555045523156"
      ]
     },
     "execution_count": 19,
     "metadata": {},
     "output_type": "execute_result"
    }
   ],
   "source": [
    "np.random.random_sample() # Returns random float from 0,1"
   ]
  },
  {
   "cell_type": "code",
   "execution_count": 22,
   "id": "e894c8fc-e2e4-4185-b586-79211eb0b218",
   "metadata": {},
   "outputs": [
    {
     "data": {
      "text/plain": [
       "array([0.97579208, 0.52802121, 0.87708631, 0.60094886])"
      ]
     },
     "execution_count": 22,
     "metadata": {},
     "output_type": "execute_result"
    }
   ],
   "source": [
    "np.random.random_sample(4) #Returning 4 ramdom samples"
   ]
  },
  {
   "cell_type": "code",
   "execution_count": 26,
   "id": "1cb25800-ac8b-4bcf-8e57-608e324007be",
   "metadata": {},
   "outputs": [
    {
     "data": {
      "text/plain": [
       "b'0c\\xfa\\xa0\\xb0\\x95\\xce\\xb5B\\xc8'"
      ]
     },
     "execution_count": 26,
     "metadata": {},
     "output_type": "execute_result"
    }
   ],
   "source": [
    "np.random.bytes(10) # Returns random bytes"
   ]
  },
  {
   "cell_type": "markdown",
   "id": "80433fc5-d695-4497-adf4-268f7b74468e",
   "metadata": {},
   "source": [
    "### 2.2 Permutations"
   ]
  },
  {
   "cell_type": "markdown",
   "id": "5ebf3d47-0a76-4eff-8d65-76cb2b779163",
   "metadata": {},
   "source": [
    "NumPy has two permutation functions [8];\n",
    "\n",
    "- Shuffle\n",
    "- Permutations\n",
    "\n",
    "I will demonstrate these below."
   ]
  },
  {
   "cell_type": "markdown",
   "id": "acf36127-6469-4a74-bb10-e947c71e78ee",
   "metadata": {},
   "source": [
    "### 2.2.1 - np.random.shuffle\n",
    "\n",
    "This fuction will take an array and shuffle the order."
   ]
  },
  {
   "cell_type": "code",
   "execution_count": 37,
   "id": "38077001-4e2d-4a4d-bd90-594c8af6f7b2",
   "metadata": {},
   "outputs": [
    {
     "ename": "TypeError",
     "evalue": "object of type 'int' has no len()",
     "output_type": "error",
     "traceback": [
      "\u001b[1;31m---------------------------------------------------------------------------\u001b[0m",
      "\u001b[1;31mTypeError\u001b[0m                                 Traceback (most recent call last)",
      "\u001b[1;32m<ipython-input-37-9b2d4a5aba7e>\u001b[0m in \u001b[0;36m<module>\u001b[1;34m\u001b[0m\n\u001b[1;32m----> 1\u001b[1;33m \u001b[0mnp\u001b[0m\u001b[1;33m.\u001b[0m\u001b[0mrandom\u001b[0m\u001b[1;33m.\u001b[0m\u001b[0mshuffle\u001b[0m\u001b[1;33m(\u001b[0m\u001b[1;36m52\u001b[0m\u001b[1;33m)\u001b[0m\u001b[1;33m\u001b[0m\u001b[1;33m\u001b[0m\u001b[0m\n\u001b[0m",
      "\u001b[1;32mmtrand.pyx\u001b[0m in \u001b[0;36mnumpy.random.mtrand.RandomState.shuffle\u001b[1;34m()\u001b[0m\n",
      "\u001b[1;31mTypeError\u001b[0m: object of type 'int' has no len()"
     ]
    }
   ],
   "source": [
    "np.random.shuffle(52)"
   ]
  },
  {
   "cell_type": "markdown",
   "id": "a7486859-aedc-4861-b8aa-91cdbf37dd44",
   "metadata": {
    "tags": []
   },
   "source": [
    "### 4) Explain the use of seeds in generating pseudorandom numbers"
   ]
  },
  {
   "cell_type": "markdown",
   "id": "1f82f4c2-4667-4ae9-9981-c1edf16d74b8",
   "metadata": {},
   "source": [
    "A seed (or random seed) is the initial point in a sequence of pseudorandom numbers. If you start from the same seed, you will get the same sequence. Seeds are needed as computers do not generate truly random numbers. By setting out rules (or formula), we can generate seemingly random numbers. However, once you know the seed, you should be able to predict the sequence."
   ]
  },
  {
   "cell_type": "code",
   "execution_count": null,
   "id": "77413c38-a4f4-438f-bff8-8d7f9610665d",
   "metadata": {},
   "outputs": [],
   "source": []
  }
 ],
 "metadata": {
  "kernelspec": {
   "display_name": "Python 3",
   "language": "python",
   "name": "python3"
  },
  "language_info": {
   "codemirror_mode": {
    "name": "ipython",
    "version": 3
   },
   "file_extension": ".py",
   "mimetype": "text/x-python",
   "name": "python",
   "nbconvert_exporter": "python",
   "pygments_lexer": "ipython3",
   "version": "3.8.8"
  },
  "toc-showcode": true
 },
 "nbformat": 4,
 "nbformat_minor": 5
}
